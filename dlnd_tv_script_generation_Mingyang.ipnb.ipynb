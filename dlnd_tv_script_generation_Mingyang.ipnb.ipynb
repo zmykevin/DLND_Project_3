{
 "cells": [
  {
   "cell_type": "markdown",
   "metadata": {
    "deletable": true,
    "editable": true
   },
   "source": [
    "# TV Script Generation\n",
    "In this project, you'll generate your own [Simpsons](https://en.wikipedia.org/wiki/The_Simpsons) TV scripts using RNNs.  You'll be using part of the [Simpsons dataset](https://www.kaggle.com/wcukierski/the-simpsons-by-the-data) of scripts from 27 seasons.  The Neural Network you'll build will generate a new TV script for a scene at [Moe's Tavern](https://simpsonswiki.com/wiki/Moe's_Tavern).\n",
    "## Get the Data\n",
    "The data is already provided for you.  You'll be using a subset of the original dataset.  It consists of only the scenes in Moe's Tavern.  This doesn't include other versions of the tavern, like \"Moe's Cavern\", \"Flaming Moe's\", \"Uncle Moe's Family Feed-Bag\", etc.."
   ]
  },
  {
   "cell_type": "code",
   "execution_count": 1,
   "metadata": {
    "collapsed": false,
    "deletable": true,
    "editable": true
   },
   "outputs": [],
   "source": [
    "\"\"\"\n",
    "DON'T MODIFY ANYTHING IN THIS CELL\n",
    "\"\"\"\n",
    "import helper\n",
    "\n",
    "data_dir = './data/simpsons/moes_tavern_lines.txt'\n",
    "text = helper.load_data(data_dir)\n",
    "# Ignore notice, since we don't use it for analysing the data\n",
    "text = text[81:]"
   ]
  },
  {
   "cell_type": "markdown",
   "metadata": {
    "deletable": true,
    "editable": true
   },
   "source": [
    "## Explore the Data\n",
    "Play around with `view_sentence_range` to view different parts of the data."
   ]
  },
  {
   "cell_type": "code",
   "execution_count": 2,
   "metadata": {
    "collapsed": false,
    "deletable": true,
    "editable": true
   },
   "outputs": [
    {
     "name": "stdout",
     "output_type": "stream",
     "text": [
      "Dataset Stats\n",
      "Roughly the number of unique words: 11492\n",
      "Number of scenes: 262\n",
      "Average number of sentences in each scene: 15.248091603053435\n",
      "Number of lines: 4257\n",
      "Average number of words in each line: 11.50434578341555\n",
      "\n",
      "The sentences 0 to 10:\n",
      "Moe_Szyslak: (INTO PHONE) Moe's Tavern. Where the elite meet to drink.\n",
      "Bart_Simpson: Eh, yeah, hello, is Mike there? Last name, Rotch.\n",
      "Moe_Szyslak: (INTO PHONE) Hold on, I'll check. (TO BARFLIES) Mike Rotch. Mike Rotch. Hey, has anybody seen Mike Rotch, lately?\n",
      "Moe_Szyslak: (INTO PHONE) Listen you little puke. One of these days I'm gonna catch you, and I'm gonna carve my name on your back with an ice pick.\n",
      "Moe_Szyslak: What's the matter Homer? You're not your normal effervescent self.\n",
      "Homer_Simpson: I got my problems, Moe. Give me another one.\n",
      "Moe_Szyslak: Homer, hey, you should not drink to forget your problems.\n",
      "Barney_Gumble: Yeah, you should only drink to enhance your social skills.\n",
      "\n",
      "\n"
     ]
    }
   ],
   "source": [
    "view_sentence_range = (0, 10)\n",
    "\n",
    "\"\"\"\n",
    "DON'T MODIFY ANYTHING IN THIS CELL\n",
    "\"\"\"\n",
    "import numpy as np\n",
    "\n",
    "print('Dataset Stats')\n",
    "print('Roughly the number of unique words: {}'.format(len({word: None for word in text.split()})))\n",
    "scenes = text.split('\\n\\n')\n",
    "print('Number of scenes: {}'.format(len(scenes)))\n",
    "sentence_count_scene = [scene.count('\\n') for scene in scenes]\n",
    "print('Average number of sentences in each scene: {}'.format(np.average(sentence_count_scene)))\n",
    "\n",
    "sentences = [sentence for scene in scenes for sentence in scene.split('\\n')]\n",
    "print('Number of lines: {}'.format(len(sentences)))\n",
    "word_count_sentence = [len(sentence.split()) for sentence in sentences]\n",
    "print('Average number of words in each line: {}'.format(np.average(word_count_sentence)))\n",
    "\n",
    "print()\n",
    "print('The sentences {} to {}:'.format(*view_sentence_range))\n",
    "print('\\n'.join(text.split('\\n')[view_sentence_range[0]:view_sentence_range[1]]))"
   ]
  },
  {
   "cell_type": "markdown",
   "metadata": {
    "deletable": true,
    "editable": true
   },
   "source": [
    "## Implement Preprocessing Functions\n",
    "The first thing to do to any dataset is preprocessing.  Implement the following preprocessing functions below:\n",
    "- Lookup Table\n",
    "- Tokenize Punctuation\n",
    "\n",
    "### Lookup Table\n",
    "To create a word embedding, you first need to transform the words to ids.  In this function, create two dictionaries:\n",
    "- Dictionary to go from the words to an id, we'll call `vocab_to_int`\n",
    "- Dictionary to go from the id to word, we'll call `int_to_vocab`\n",
    "\n",
    "Return these dictionaries in the following tuple `(vocab_to_int, int_to_vocab)`"
   ]
  },
  {
   "cell_type": "code",
   "execution_count": 26,
   "metadata": {
    "collapsed": false,
    "deletable": true,
    "editable": true
   },
   "outputs": [
    {
     "name": "stdout",
     "output_type": "stream",
     "text": [
      "Tests Passed\n"
     ]
    }
   ],
   "source": [
    "import numpy as np\n",
    "import problem_unittests as tests\n",
    "\n",
    "def create_lookup_tables(text):\n",
    "    \"\"\"\n",
    "    Create lookup tables for vocabulary\n",
    "    :param text: The text of tv scripts split into words\n",
    "    :return: A tuple of dicts (vocab_to_int, int_to_vocab)\n",
    "    \"\"\"\n",
    "    # TODO: Implement Function\n",
    "    #Create the vocab from the text\n",
    "    vocab = list(set(text))\n",
    "    #Convert Word to Integers\n",
    "    vocab_to_int = {word:index for index,word in enumerate(vocab)}\n",
    "    int_to_vocab = {vocab_to_int[word]:word for word in list(vocab_to_int.keys())}\n",
    "    return vocab_to_int, int_to_vocab\n",
    "\n",
    "\"\"\"\n",
    "DON'T MODIFY ANYTHING IN THIS CELL THAT IS BELOW THIS LINE\n",
    "\"\"\"\n",
    "tests.test_create_lookup_tables(create_lookup_tables)"
   ]
  },
  {
   "cell_type": "markdown",
   "metadata": {
    "deletable": true,
    "editable": true
   },
   "source": [
    "### Tokenize Punctuation\n",
    "We'll be splitting the script into a word array using spaces as delimiters.  However, punctuations like periods and exclamation marks make it hard for the neural network to distinguish between the word \"bye\" and \"bye!\".\n",
    "\n",
    "Implement the function `token_lookup` to return a dict that will be used to tokenize symbols like \"!\" into \"||Exclamation_Mark||\".  Create a dictionary for the following symbols where the symbol is the key and value is the token:\n",
    "- Period ( . )\n",
    "- Comma ( , )\n",
    "- Quotation Mark ( \" )\n",
    "- Semicolon ( ; )\n",
    "- Exclamation mark ( ! )\n",
    "- Question mark ( ? )\n",
    "- Left Parentheses ( ( )\n",
    "- Right Parentheses ( ) )\n",
    "- Dash ( -- )\n",
    "- Return ( \\n )\n",
    "\n",
    "This dictionary will be used to token the symbols and add the delimiter (space) around it.  This separates the symbols as it's own word, making it easier for the neural network to predict on the next word. Make sure you don't use a token that could be confused as a word. Instead of using the token \"dash\", try using something like \"||dash||\"."
   ]
  },
  {
   "cell_type": "code",
   "execution_count": 27,
   "metadata": {
    "collapsed": false,
    "deletable": true,
    "editable": true
   },
   "outputs": [
    {
     "name": "stdout",
     "output_type": "stream",
     "text": [
      "Tests Passed\n"
     ]
    }
   ],
   "source": [
    "def token_lookup():\n",
    "    \"\"\"\n",
    "    Generate a dict to turn punctuation into a token.\n",
    "    :return: Tokenize dictionary where the key is the punctuation and the value is the token\n",
    "    \"\"\"\n",
    "    # TODO: Implement Function\n",
    "    token_lookup_dic = {'.':'||Period||', ',':'||Comma||','\"':'||Quotation_Mark||',';':'||Semicolon||','!':\"||Exclamation_Mark||\"\n",
    "                   , '?':\"||Question_Mark||\",'(':\"||Left_Parentheses||\",')':\"||Right_Parentheses||\",'--':\"||Dash||\",'\\n':\"||Return||\"}\n",
    "    return token_lookup_dic\n",
    "\n",
    "\"\"\"\n",
    "DON'T MODIFY ANYTHING IN THIS CELL THAT IS BELOW THIS LINE\n",
    "\"\"\"\n",
    "tests.test_tokenize(token_lookup)"
   ]
  },
  {
   "cell_type": "markdown",
   "metadata": {
    "deletable": true,
    "editable": true
   },
   "source": [
    "## Preprocess all the data and save it\n",
    "Running the code cell below will preprocess all the data and save it to file."
   ]
  },
  {
   "cell_type": "code",
   "execution_count": 28,
   "metadata": {
    "collapsed": false,
    "deletable": true,
    "editable": true
   },
   "outputs": [],
   "source": [
    "\"\"\"\n",
    "DON'T MODIFY ANYTHING IN THIS CELL\n",
    "\"\"\"\n",
    "# Preprocess Training, Validation, and Testing Data\n",
    "helper.preprocess_and_save_data(data_dir, token_lookup, create_lookup_tables)"
   ]
  },
  {
   "cell_type": "markdown",
   "metadata": {
    "deletable": true,
    "editable": true
   },
   "source": [
    "# Check Point\n",
    "This is your first checkpoint. If you ever decide to come back to this notebook or have to restart the notebook, you can start from here. The preprocessed data has been saved to disk."
   ]
  },
  {
   "cell_type": "code",
   "execution_count": 1,
   "metadata": {
    "collapsed": false,
    "deletable": true,
    "editable": true
   },
   "outputs": [],
   "source": [
    "\"\"\"\n",
    "DON'T MODIFY ANYTHING IN THIS CELL\n",
    "\"\"\"\n",
    "import helper\n",
    "import numpy as np\n",
    "import problem_unittests as tests\n",
    "\n",
    "int_text, vocab_to_int, int_to_vocab, token_dict = helper.load_preprocess()"
   ]
  },
  {
   "cell_type": "markdown",
   "metadata": {
    "deletable": true,
    "editable": true
   },
   "source": [
    "## Build the Neural Network\n",
    "You'll build the components necessary to build a RNN by implementing the following functions below:\n",
    "- get_inputs\n",
    "- get_init_cell\n",
    "- get_embed\n",
    "- build_rnn\n",
    "- build_nn\n",
    "- get_batches\n",
    "\n",
    "### Check the Version of TensorFlow and Access to GPU"
   ]
  },
  {
   "cell_type": "code",
   "execution_count": 2,
   "metadata": {
    "collapsed": false,
    "deletable": true,
    "editable": true
   },
   "outputs": [
    {
     "name": "stdout",
     "output_type": "stream",
     "text": [
      "TensorFlow Version: 1.0.0\n",
      "Default GPU Device: /gpu:0\n"
     ]
    }
   ],
   "source": [
    "\"\"\"\n",
    "DON'T MODIFY ANYTHING IN THIS CELL\n",
    "\"\"\"\n",
    "from distutils.version import LooseVersion\n",
    "import warnings\n",
    "import tensorflow as tf\n",
    "\n",
    "# Check TensorFlow Version\n",
    "assert LooseVersion(tf.__version__) >= LooseVersion('1.0'), 'Please use TensorFlow version 1.0 or newer'\n",
    "print('TensorFlow Version: {}'.format(tf.__version__))\n",
    "\n",
    "# Check for a GPU\n",
    "if not tf.test.gpu_device_name():\n",
    "    warnings.warn('No GPU found. Please use a GPU to train your neural network.')\n",
    "else:\n",
    "    print('Default GPU Device: {}'.format(tf.test.gpu_device_name()))"
   ]
  },
  {
   "cell_type": "markdown",
   "metadata": {
    "deletable": true,
    "editable": true
   },
   "source": [
    "### Input\n",
    "Implement the `get_inputs()` function to create TF Placeholders for the Neural Network.  It should create the following placeholders:\n",
    "- Input text placeholder named \"input\" using the [TF Placeholder](https://www.tensorflow.org/api_docs/python/tf/placeholder) `name` parameter.\n",
    "- Targets placeholder\n",
    "- Learning Rate placeholder\n",
    "\n",
    "Return the placeholders in the following the tuple `(Input, Targets, LearingRate)`"
   ]
  },
  {
   "cell_type": "code",
   "execution_count": 13,
   "metadata": {
    "collapsed": false,
    "deletable": true,
    "editable": true
   },
   "outputs": [
    {
     "name": "stdout",
     "output_type": "stream",
     "text": [
      "Tests Passed\n"
     ]
    }
   ],
   "source": [
    "def get_inputs():\n",
    "    \"\"\"\n",
    "    Create TF Placeholders for input, targets, and learning rate.\n",
    "    :return: Tuple (input, targets, learning rate)\n",
    "    \"\"\"\n",
    "    # TODO: Implement Function\n",
    "    Input = tf.placeholder(tf.int32,[None,None],name=\"input\")\n",
    "    Targets = tf.placeholder(tf.int32,[None,None])\n",
    "    LearningRate = tf.placeholder(tf.float32)\n",
    "    return Input, Targets, LearningRate\n",
    "\n",
    "\n",
    "\"\"\"\n",
    "DON'T MODIFY ANYTHING IN THIS CELL THAT IS BELOW THIS LINE\n",
    "\"\"\"\n",
    "tests.test_get_inputs(get_inputs)"
   ]
  },
  {
   "cell_type": "markdown",
   "metadata": {
    "deletable": true,
    "editable": true
   },
   "source": [
    "### Build RNN Cell and Initialize\n",
    "Stack one or more [`BasicLSTMCells`](https://www.tensorflow.org/api_docs/python/tf/contrib/rnn/BasicLSTMCell) in a [`MultiRNNCell`](https://www.tensorflow.org/api_docs/python/tf/contrib/rnn/MultiRNNCell).\n",
    "- The Rnn size should be set using `rnn_size`\n",
    "- Initalize Cell State using the MultiRNNCell's [`zero_state()`](https://www.tensorflow.org/api_docs/python/tf/contrib/rnn/MultiRNNCell#zero_state) function\n",
    "    - Apply the name \"initial_state\" to the initial state using [`tf.identity()`](https://www.tensorflow.org/api_docs/python/tf/identity)\n",
    "\n",
    "Return the cell and initial state in the following tuple `(Cell, InitialState)`"
   ]
  },
  {
   "cell_type": "code",
   "execution_count": 54,
   "metadata": {
    "collapsed": false,
    "deletable": true,
    "editable": true
   },
   "outputs": [
    {
     "name": "stdout",
     "output_type": "stream",
     "text": [
      "Tests Passed\n"
     ]
    }
   ],
   "source": [
    "def get_init_cell(batch_size, rnn_size):\n",
    "    \"\"\"\n",
    "    Create an RNN Cell and initialize it.\n",
    "    :param batch_size: Size of batches\n",
    "    :param rnn_size: Size of RNNs\n",
    "    :return: Tuple (cell, initialize state)\n",
    "    \"\"\"\n",
    "    # TODO: Implement Function\n",
    "    #Set the number of LSTM_Layers\n",
    "    lstm_layers = 3\n",
    "    lstm = tf.contrib.rnn.BasicLSTMCell(rnn_size)\n",
    "    #Concatenate multiple lstm together\n",
    "    Cell = tf.contrib.rnn.MultiRNNCell([lstm]*lstm_layers)\n",
    "    #Gettinhg an initial state of all zeros\n",
    "    InitialState = tf.identity(Cell.zero_state(batch_size,tf.float32),name=\"initial_state\")\n",
    "    \n",
    "    return Cell, InitialState\n",
    "\n",
    "\n",
    "\"\"\"\n",
    "DON'T MODIFY ANYTHING IN THIS CELL THAT IS BELOW THIS LINE\n",
    "\"\"\"\n",
    "tests.test_get_init_cell(get_init_cell)"
   ]
  },
  {
   "cell_type": "markdown",
   "metadata": {
    "deletable": true,
    "editable": true
   },
   "source": [
    "### Word Embedding\n",
    "Apply embedding to `input_data` using TensorFlow.  Return the embedded sequence."
   ]
  },
  {
   "cell_type": "code",
   "execution_count": 55,
   "metadata": {
    "collapsed": false,
    "deletable": true,
    "editable": true
   },
   "outputs": [
    {
     "name": "stdout",
     "output_type": "stream",
     "text": [
      "Tests Passed\n"
     ]
    }
   ],
   "source": [
    "def get_embed(input_data, vocab_size, embed_dim):\n",
    "    \"\"\"\n",
    "    Create embedding for <input_data>.\n",
    "    :param input_data: TF placeholder for text input.\n",
    "    :param vocab_size: Number of words in vocabulary.\n",
    "    :param embed_dim: Number of embedding dimensions\n",
    "    :return: Embedded input.\n",
    "    \"\"\"\n",
    "    # TODO: Implement Function\n",
    "    embedding = tf.Variable(tf.random_uniform((vocab_size,embed_dim),-1,1))\n",
    "    embed = tf.nn.embedding_lookup(embedding,input_data)\n",
    "    return embed\n",
    "\n",
    "\n",
    "\"\"\"\n",
    "DON'T MODIFY ANYTHING IN THIS CELL THAT IS BELOW THIS LINE\n",
    "\"\"\"\n",
    "tests.test_get_embed(get_embed)"
   ]
  },
  {
   "cell_type": "markdown",
   "metadata": {
    "deletable": true,
    "editable": true
   },
   "source": [
    "### Build RNN\n",
    "You created a RNN Cell in the `get_init_cell()` function.  Time to use the cell to create a RNN.\n",
    "- Build the RNN using the [`tf.nn.dynamic_rnn()`](https://www.tensorflow.org/api_docs/python/tf/nn/dynamic_rnn)\n",
    " - Apply the name \"final_state\" to the final state using [`tf.identity()`](https://www.tensorflow.org/api_docs/python/tf/identity)\n",
    "\n",
    "Return the outputs and final_state state in the following tuple `(Outputs, FinalState)` "
   ]
  },
  {
   "cell_type": "code",
   "execution_count": 56,
   "metadata": {
    "collapsed": false,
    "deletable": true,
    "editable": true
   },
   "outputs": [
    {
     "name": "stdout",
     "output_type": "stream",
     "text": [
      "Tests Passed\n"
     ]
    }
   ],
   "source": [
    "def build_rnn(cell, inputs):\n",
    "    \"\"\"\n",
    "    Create a RNN using a RNN Cell\n",
    "    :param cell: RNN Cell\n",
    "    :param inputs: Input text data\n",
    "    :return: Tuple (Outputs, Final State)\n",
    "    \"\"\"\n",
    "    # TODO: Implement Function\n",
    "    Outputs,State = tf.nn.dynamic_rnn(cell,inputs,dtype=tf.float32) # How did initial_state feed in here?\n",
    "    FinalState = tf.identity(State,name=\"final_state\")\n",
    "    return Outputs, FinalState\n",
    "\n",
    "\n",
    "\"\"\"\n",
    "DON'T MODIFY ANYTHING IN THIS CELL THAT IS BELOW THIS LINE\n",
    "\"\"\"\n",
    "tests.test_build_rnn(build_rnn)"
   ]
  },
  {
   "cell_type": "markdown",
   "metadata": {
    "deletable": true,
    "editable": true
   },
   "source": [
    "### Build the Neural Network\n",
    "Apply the functions you implemented above to:\n",
    "- Apply embedding to `input_data` using your `get_embed(input_data, vocab_size, embed_dim)` function.\n",
    "- Build RNN using `cell` and your `build_rnn(cell, inputs)` function.\n",
    "- Apply a fully connected layer with a linear activation and `vocab_size` as the number of outputs.\n",
    "\n",
    "Return the logits and final state in the following tuple (Logits, FinalState) "
   ]
  },
  {
   "cell_type": "code",
   "execution_count": 57,
   "metadata": {
    "collapsed": false,
    "deletable": true,
    "editable": true
   },
   "outputs": [
    {
     "name": "stdout",
     "output_type": "stream",
     "text": [
      "Tests Passed\n"
     ]
    }
   ],
   "source": [
    "def build_nn(cell, rnn_size, input_data, vocab_size):\n",
    "    \"\"\"\n",
    "    Build part of the neural network\n",
    "    :param cell: RNN cell\n",
    "    :param rnn_size: Size of rnns\n",
    "    :param input_data: Input data\n",
    "    :param vocab_size: Vocabulary size\n",
    "    :return: Tuple (Logits, FinalState)\n",
    "    \"\"\"\n",
    "    # TODO: Implement Function\n",
    "    #Define embed_dim\n",
    "    embed_dim = rnn_size\n",
    "    #Create the Embeded Matrix\n",
    "    Embed = get_embed(input_data,vocab_size,embed_dim)\n",
    "    Outputs,FinalState = build_rnn(cell,Embed)\n",
    "    Logits = tf.contrib.layers.fully_connected(Outputs,vocab_size,activation_fn=None)\n",
    "    return Logits,FinalState\n",
    "\n",
    "\n",
    "\"\"\"\n",
    "DON'T MODIFY ANYTHING IN THIS CELL THAT IS BELOW THIS LINE\n",
    "\"\"\"\n",
    "tests.test_build_nn(build_nn)"
   ]
  },
  {
   "cell_type": "markdown",
   "metadata": {
    "deletable": true,
    "editable": true
   },
   "source": [
    "### Batches\n",
    "Implement `get_batches` to create batches of input and targets using `int_text`.  The batches should be a Numpy array with the shape `(number of batches, 2, batch size, sequence length)`. Each batch contains two elements:\n",
    "- The first element is a single batch of **input** with the shape `[batch size, sequence length]`\n",
    "- The second element is a single batch of **targets** with the shape `[batch size, sequence length]`\n",
    "\n",
    "If you can't fill the last batch with enough data, drop the last batch.\n",
    "\n",
    "For exmple, `get_batches([1, 2, 3, 4, 5, 6, 7, 8, 9, 10, 11, 12, 13, 14, 15], 2, 3)` would return a Numpy array of the following:\n",
    "```\n",
    "[\n",
    "  # First Batch\n",
    "  [\n",
    "    # Batch of Input\n",
    "    [[ 1  2  3], [ 7  8  9]],\n",
    "    # Batch of targets\n",
    "    [[ 2  3  4], [ 8  9 10]]\n",
    "  ],\n",
    " \n",
    "  # Second Batch\n",
    "  [\n",
    "    # Batch of Input\n",
    "    [[ 4  5  6], [10 11 12]],\n",
    "    # Batch of targets\n",
    "    [[ 5  6  7], [11 12 13]]\n",
    "  ]\n",
    "]\n",
    "```"
   ]
  },
  {
   "cell_type": "code",
   "execution_count": 58,
   "metadata": {
    "collapsed": false,
    "deletable": true,
    "editable": true
   },
   "outputs": [
    {
     "name": "stdout",
     "output_type": "stream",
     "text": [
      "Tests Passed\n"
     ]
    }
   ],
   "source": [
    "def get_batches(int_text, batch_size, seq_length):\n",
    "    \"\"\"\n",
    "    Return batches of input and target\n",
    "    :param int_text: Text with the words replaced by their ids\n",
    "    :param batch_size: The size of batch\n",
    "    :param seq_length: The length of sequence\n",
    "    :return: Batches as a Numpy array\n",
    "    \"\"\"\n",
    "    # TODO: Implement Function\n",
    "    n_batches = len(int_text)//(batch_size*seq_length)\n",
    "    #Initialize Batches\n",
    "    Batches = np.zeros((n_batches,2,batch_size,seq_length),dtype=int)\n",
    "    #Get batches\n",
    "    ii = 0\n",
    "    for i in range(batch_size):\n",
    "        for j in range(n_batches):\n",
    "            #Define Inputs\n",
    "            Batches[j,0,i,:] = int_text[ii:ii+seq_length]\n",
    "            #Define Targets\n",
    "            Batches[j,1,i,:] = int_text[ii+1:ii+1+seq_length]\n",
    "            ii += seq_length\n",
    "    return Batches\n",
    "\n",
    "\"\"\"\n",
    "DON'T MODIFY ANYTHING IN THIS CELL THAT IS BELOW THIS LINE\n",
    "\"\"\"\n",
    "tests.test_get_batches(get_batches)"
   ]
  },
  {
   "cell_type": "markdown",
   "metadata": {
    "deletable": true,
    "editable": true
   },
   "source": [
    "## Neural Network Training\n",
    "### Hyperparameters\n",
    "Tune the following parameters:\n",
    "\n",
    "- Set `num_epochs` to the number of epochs.\n",
    "- Set `batch_size` to the batch size.\n",
    "- Set `rnn_size` to the size of the RNNs.\n",
    "- Set `seq_length` to the length of sequence.\n",
    "- Set `learning_rate` to the learning rate.\n",
    "- Set `show_every_n_batches` to the number of batches the neural network should print progress."
   ]
  },
  {
   "cell_type": "code",
   "execution_count": 71,
   "metadata": {
    "collapsed": true,
    "deletable": true,
    "editable": true
   },
   "outputs": [],
   "source": [
    "# Number of Epochs\n",
    "num_epochs = 60\n",
    "# Batch Size\n",
    "batch_size = 64\n",
    "# RNN Size\n",
    "rnn_size = 512\n",
    "# Sequence Length\n",
    "seq_length = 20\n",
    "# Learning Rate\n",
    "learning_rate = 0.002\n",
    "# Show stats for every n number of batches\n",
    "show_every_n_batches = 5\n",
    "\n",
    "\"\"\"\n",
    "DON'T MODIFY ANYTHING IN THIS CELL THAT IS BELOW THIS LINE\n",
    "\"\"\"\n",
    "save_dir = './save'"
   ]
  },
  {
   "cell_type": "markdown",
   "metadata": {
    "deletable": true,
    "editable": true
   },
   "source": [
    "### Build the Graph\n",
    "Build the graph using the neural network you implemented."
   ]
  },
  {
   "cell_type": "code",
   "execution_count": 72,
   "metadata": {
    "collapsed": false,
    "deletable": true,
    "editable": true
   },
   "outputs": [],
   "source": [
    "\"\"\"\n",
    "DON'T MODIFY ANYTHING IN THIS CELL\n",
    "\"\"\"\n",
    "from tensorflow.contrib import seq2seq\n",
    "\n",
    "train_graph = tf.Graph()\n",
    "with train_graph.as_default():\n",
    "    vocab_size = len(int_to_vocab)\n",
    "    input_text, targets, lr = get_inputs()\n",
    "    input_data_shape = tf.shape(input_text)\n",
    "    cell, initial_state = get_init_cell(input_data_shape[0], rnn_size)\n",
    "    logits, final_state = build_nn(cell, rnn_size, input_text, vocab_size)\n",
    "\n",
    "    # Probabilities for generating words\n",
    "    probs = tf.nn.softmax(logits, name='probs')\n",
    "\n",
    "    # Loss function\n",
    "    cost = seq2seq.sequence_loss(\n",
    "        logits,\n",
    "        targets,\n",
    "        tf.ones([input_data_shape[0], input_data_shape[1]]))\n",
    "\n",
    "    # Optimizer\n",
    "    optimizer = tf.train.AdamOptimizer(lr)\n",
    "\n",
    "    # Gradient Clipping\n",
    "    gradients = optimizer.compute_gradients(cost)\n",
    "    capped_gradients = [(tf.clip_by_value(grad, -1., 1.), var) for grad, var in gradients]\n",
    "    train_op = optimizer.apply_gradients(capped_gradients)"
   ]
  },
  {
   "cell_type": "markdown",
   "metadata": {
    "deletable": true,
    "editable": true
   },
   "source": [
    "## Train\n",
    "Train the neural network on the preprocessed data.  If you have a hard time getting a good loss, check the [forms](https://discussions.udacity.com/) to see if anyone is having the same problem."
   ]
  },
  {
   "cell_type": "code",
   "execution_count": 73,
   "metadata": {
    "collapsed": false,
    "deletable": true,
    "editable": true
   },
   "outputs": [
    {
     "name": "stdout",
     "output_type": "stream",
     "text": [
      "Epoch   0 Batch    0/53   train_loss = 8.822\n",
      "Epoch   0 Batch    5/53   train_loss = 6.471\n",
      "Epoch   0 Batch   10/53   train_loss = 6.757\n",
      "Epoch   0 Batch   15/53   train_loss = 6.760\n",
      "Epoch   0 Batch   20/53   train_loss = 6.667\n",
      "Epoch   0 Batch   25/53   train_loss = 6.596\n",
      "Epoch   0 Batch   30/53   train_loss = 6.559\n",
      "Epoch   0 Batch   35/53   train_loss = 6.725\n",
      "Epoch   0 Batch   40/53   train_loss = 6.371\n",
      "Epoch   0 Batch   45/53   train_loss = 6.440\n",
      "Epoch   0 Batch   50/53   train_loss = 6.439\n",
      "Epoch   1 Batch    2/53   train_loss = 6.375\n",
      "Epoch   1 Batch    7/53   train_loss = 6.249\n",
      "Epoch   1 Batch   12/53   train_loss = 6.308\n",
      "Epoch   1 Batch   17/53   train_loss = 6.241\n",
      "Epoch   1 Batch   22/53   train_loss = 6.108\n",
      "Epoch   1 Batch   27/53   train_loss = 6.208\n",
      "Epoch   1 Batch   32/53   train_loss = 6.091\n",
      "Epoch   1 Batch   37/53   train_loss = 6.357\n",
      "Epoch   1 Batch   42/53   train_loss = 6.169\n",
      "Epoch   1 Batch   47/53   train_loss = 6.186\n",
      "Epoch   1 Batch   52/53   train_loss = 6.126\n",
      "Epoch   2 Batch    4/53   train_loss = 6.312\n",
      "Epoch   2 Batch    9/53   train_loss = 6.094\n",
      "Epoch   2 Batch   14/53   train_loss = 6.207\n",
      "Epoch   2 Batch   19/53   train_loss = 6.143\n",
      "Epoch   2 Batch   24/53   train_loss = 6.095\n",
      "Epoch   2 Batch   29/53   train_loss = 5.934\n",
      "Epoch   2 Batch   34/53   train_loss = 6.140\n",
      "Epoch   2 Batch   39/53   train_loss = 6.187\n",
      "Epoch   2 Batch   44/53   train_loss = 5.996\n",
      "Epoch   2 Batch   49/53   train_loss = 6.057\n",
      "Epoch   3 Batch    1/53   train_loss = 5.997\n",
      "Epoch   3 Batch    6/53   train_loss = 5.928\n",
      "Epoch   3 Batch   11/53   train_loss = 6.085\n",
      "Epoch   3 Batch   16/53   train_loss = 5.959\n",
      "Epoch   3 Batch   21/53   train_loss = 5.887\n",
      "Epoch   3 Batch   26/53   train_loss = 6.120\n",
      "Epoch   3 Batch   31/53   train_loss = 5.998\n",
      "Epoch   3 Batch   36/53   train_loss = 5.912\n",
      "Epoch   3 Batch   41/53   train_loss = 6.021\n",
      "Epoch   3 Batch   46/53   train_loss = 6.030\n",
      "Epoch   3 Batch   51/53   train_loss = 6.020\n",
      "Epoch   4 Batch    3/53   train_loss = 6.046\n",
      "Epoch   4 Batch    8/53   train_loss = 5.844\n",
      "Epoch   4 Batch   13/53   train_loss = 6.126\n",
      "Epoch   4 Batch   18/53   train_loss = 5.813\n",
      "Epoch   4 Batch   23/53   train_loss = 5.800\n",
      "Epoch   4 Batch   28/53   train_loss = 5.749\n",
      "Epoch   4 Batch   33/53   train_loss = 5.856\n",
      "Epoch   4 Batch   38/53   train_loss = 5.887\n",
      "Epoch   4 Batch   43/53   train_loss = 5.866\n",
      "Epoch   4 Batch   48/53   train_loss = 5.781\n",
      "Epoch   5 Batch    0/53   train_loss = 5.897\n",
      "Epoch   5 Batch    5/53   train_loss = 5.855\n",
      "Epoch   5 Batch   10/53   train_loss = 5.903\n",
      "Epoch   5 Batch   15/53   train_loss = 5.857\n",
      "Epoch   5 Batch   20/53   train_loss = 5.795\n",
      "Epoch   5 Batch   25/53   train_loss = 5.748\n",
      "Epoch   5 Batch   30/53   train_loss = 5.675\n",
      "Epoch   5 Batch   35/53   train_loss = 5.873\n",
      "Epoch   5 Batch   40/53   train_loss = 5.665\n",
      "Epoch   5 Batch   45/53   train_loss = 5.647\n",
      "Epoch   5 Batch   50/53   train_loss = 5.694\n",
      "Epoch   6 Batch    2/53   train_loss = 5.805\n",
      "Epoch   6 Batch    7/53   train_loss = 5.721\n",
      "Epoch   6 Batch   12/53   train_loss = 5.757\n",
      "Epoch   6 Batch   17/53   train_loss = 5.712\n",
      "Epoch   6 Batch   22/53   train_loss = 5.560\n",
      "Epoch   6 Batch   27/53   train_loss = 5.590\n",
      "Epoch   6 Batch   32/53   train_loss = 5.489\n",
      "Epoch   6 Batch   37/53   train_loss = 5.721\n",
      "Epoch   6 Batch   42/53   train_loss = 5.533\n",
      "Epoch   6 Batch   47/53   train_loss = 5.483\n",
      "Epoch   6 Batch   52/53   train_loss = 5.441\n",
      "Epoch   7 Batch    4/53   train_loss = 5.454\n",
      "Epoch   7 Batch    9/53   train_loss = 5.266\n",
      "Epoch   7 Batch   14/53   train_loss = 5.399\n",
      "Epoch   7 Batch   19/53   train_loss = 5.270\n",
      "Epoch   7 Batch   24/53   train_loss = 5.278\n",
      "Epoch   7 Batch   29/53   train_loss = 5.166\n",
      "Epoch   7 Batch   34/53   train_loss = 5.309\n",
      "Epoch   7 Batch   39/53   train_loss = 5.296\n",
      "Epoch   7 Batch   44/53   train_loss = 5.123\n",
      "Epoch   7 Batch   49/53   train_loss = 5.107\n",
      "Epoch   8 Batch    1/53   train_loss = 4.980\n",
      "Epoch   8 Batch    6/53   train_loss = 4.913\n",
      "Epoch   8 Batch   11/53   train_loss = 5.017\n",
      "Epoch   8 Batch   16/53   train_loss = 4.957\n",
      "Epoch   8 Batch   21/53   train_loss = 4.934\n",
      "Epoch   8 Batch   26/53   train_loss = 5.132\n",
      "Epoch   8 Batch   31/53   train_loss = 4.987\n",
      "Epoch   8 Batch   36/53   train_loss = 4.886\n",
      "Epoch   8 Batch   41/53   train_loss = 4.897\n",
      "Epoch   8 Batch   46/53   train_loss = 4.933\n",
      "Epoch   8 Batch   51/53   train_loss = 4.851\n",
      "Epoch   9 Batch    3/53   train_loss = 4.942\n",
      "Epoch   9 Batch    8/53   train_loss = 4.742\n",
      "Epoch   9 Batch   13/53   train_loss = 4.980\n",
      "Epoch   9 Batch   18/53   train_loss = 4.720\n",
      "Epoch   9 Batch   23/53   train_loss = 4.759\n",
      "Epoch   9 Batch   28/53   train_loss = 4.628\n",
      "Epoch   9 Batch   33/53   train_loss = 4.780\n",
      "Epoch   9 Batch   38/53   train_loss = 4.789\n",
      "Epoch   9 Batch   43/53   train_loss = 4.687\n",
      "Epoch   9 Batch   48/53   train_loss = 4.571\n",
      "Epoch  10 Batch    0/53   train_loss = 4.620\n",
      "Epoch  10 Batch    5/53   train_loss = 4.621\n",
      "Epoch  10 Batch   10/53   train_loss = 4.678\n",
      "Epoch  10 Batch   15/53   train_loss = 4.695\n",
      "Epoch  10 Batch   20/53   train_loss = 4.682\n",
      "Epoch  10 Batch   25/53   train_loss = 4.628\n",
      "Epoch  10 Batch   30/53   train_loss = 4.624\n",
      "Epoch  10 Batch   35/53   train_loss = 4.759\n",
      "Epoch  10 Batch   40/53   train_loss = 4.585\n",
      "Epoch  10 Batch   45/53   train_loss = 4.512\n",
      "Epoch  10 Batch   50/53   train_loss = 4.585\n",
      "Epoch  11 Batch    2/53   train_loss = 4.614\n",
      "Epoch  11 Batch    7/53   train_loss = 4.568\n",
      "Epoch  11 Batch   12/53   train_loss = 4.616\n",
      "Epoch  11 Batch   17/53   train_loss = 4.546\n",
      "Epoch  11 Batch   22/53   train_loss = 4.465\n",
      "Epoch  11 Batch   27/53   train_loss = 4.386\n",
      "Epoch  11 Batch   32/53   train_loss = 4.395\n",
      "Epoch  11 Batch   37/53   train_loss = 4.540\n",
      "Epoch  11 Batch   42/53   train_loss = 4.389\n",
      "Epoch  11 Batch   47/53   train_loss = 4.347\n",
      "Epoch  11 Batch   52/53   train_loss = 4.289\n",
      "Epoch  12 Batch    4/53   train_loss = 4.457\n",
      "Epoch  12 Batch    9/53   train_loss = 4.310\n",
      "Epoch  12 Batch   14/53   train_loss = 4.385\n",
      "Epoch  12 Batch   19/53   train_loss = 4.189\n",
      "Epoch  12 Batch   24/53   train_loss = 4.223\n",
      "Epoch  12 Batch   29/53   train_loss = 4.196\n",
      "Epoch  12 Batch   34/53   train_loss = 4.399\n",
      "Epoch  12 Batch   39/53   train_loss = 4.357\n",
      "Epoch  12 Batch   44/53   train_loss = 4.221\n",
      "Epoch  12 Batch   49/53   train_loss = 4.182\n",
      "Epoch  13 Batch    1/53   train_loss = 4.099\n",
      "Epoch  13 Batch    6/53   train_loss = 4.081\n",
      "Epoch  13 Batch   11/53   train_loss = 4.204\n",
      "Epoch  13 Batch   16/53   train_loss = 4.158\n",
      "Epoch  13 Batch   21/53   train_loss = 4.086\n",
      "Epoch  13 Batch   26/53   train_loss = 4.276\n",
      "Epoch  13 Batch   31/53   train_loss = 4.200\n",
      "Epoch  13 Batch   36/53   train_loss = 4.199\n",
      "Epoch  13 Batch   41/53   train_loss = 4.162\n",
      "Epoch  13 Batch   46/53   train_loss = 4.237\n",
      "Epoch  13 Batch   51/53   train_loss = 4.136\n",
      "Epoch  14 Batch    3/53   train_loss = 4.205\n",
      "Epoch  14 Batch    8/53   train_loss = 4.025\n",
      "Epoch  14 Batch   13/53   train_loss = 4.209\n",
      "Epoch  14 Batch   18/53   train_loss = 4.013\n",
      "Epoch  14 Batch   23/53   train_loss = 4.071\n",
      "Epoch  14 Batch   28/53   train_loss = 3.969\n",
      "Epoch  14 Batch   33/53   train_loss = 4.080\n",
      "Epoch  14 Batch   38/53   train_loss = 4.095\n",
      "Epoch  14 Batch   43/53   train_loss = 4.051\n",
      "Epoch  14 Batch   48/53   train_loss = 3.960\n",
      "Epoch  15 Batch    0/53   train_loss = 4.018\n",
      "Epoch  15 Batch    5/53   train_loss = 4.027\n",
      "Epoch  15 Batch   10/53   train_loss = 4.029\n",
      "Epoch  15 Batch   15/53   train_loss = 4.068\n",
      "Epoch  15 Batch   20/53   train_loss = 3.981\n",
      "Epoch  15 Batch   25/53   train_loss = 4.006\n",
      "Epoch  15 Batch   30/53   train_loss = 3.962\n",
      "Epoch  15 Batch   35/53   train_loss = 4.078\n",
      "Epoch  15 Batch   40/53   train_loss = 3.929\n",
      "Epoch  15 Batch   45/53   train_loss = 3.839\n",
      "Epoch  15 Batch   50/53   train_loss = 3.911\n",
      "Epoch  16 Batch    2/53   train_loss = 4.016\n",
      "Epoch  16 Batch    7/53   train_loss = 3.929\n",
      "Epoch  16 Batch   12/53   train_loss = 3.975\n",
      "Epoch  16 Batch   17/53   train_loss = 3.809\n",
      "Epoch  16 Batch   22/53   train_loss = 3.759\n",
      "Epoch  16 Batch   27/53   train_loss = 3.683\n",
      "Epoch  16 Batch   32/53   train_loss = 3.668\n",
      "Epoch  16 Batch   37/53   train_loss = 3.842\n",
      "Epoch  16 Batch   42/53   train_loss = 3.660\n",
      "Epoch  16 Batch   47/53   train_loss = 3.696\n",
      "Epoch  16 Batch   52/53   train_loss = 3.731\n",
      "Epoch  17 Batch    4/53   train_loss = 3.778\n",
      "Epoch  17 Batch    9/53   train_loss = 3.755\n",
      "Epoch  17 Batch   14/53   train_loss = 3.727\n",
      "Epoch  17 Batch   19/53   train_loss = 3.599\n",
      "Epoch  17 Batch   24/53   train_loss = 3.540\n",
      "Epoch  17 Batch   29/53   train_loss = 3.600\n",
      "Epoch  17 Batch   34/53   train_loss = 3.727\n",
      "Epoch  17 Batch   39/53   train_loss = 3.665\n",
      "Epoch  17 Batch   44/53   train_loss = 3.603\n",
      "Epoch  17 Batch   49/53   train_loss = 3.603\n",
      "Epoch  18 Batch    1/53   train_loss = 3.557\n",
      "Epoch  18 Batch    6/53   train_loss = 3.525\n",
      "Epoch  18 Batch   11/53   train_loss = 3.703\n",
      "Epoch  18 Batch   16/53   train_loss = 3.595\n",
      "Epoch  18 Batch   21/53   train_loss = 3.543\n",
      "Epoch  18 Batch   26/53   train_loss = 3.658\n",
      "Epoch  18 Batch   31/53   train_loss = 3.567\n",
      "Epoch  18 Batch   36/53   train_loss = 3.600\n",
      "Epoch  18 Batch   41/53   train_loss = 3.494\n",
      "Epoch  18 Batch   46/53   train_loss = 3.576\n",
      "Epoch  18 Batch   51/53   train_loss = 3.572\n",
      "Epoch  19 Batch    3/53   train_loss = 3.617\n",
      "Epoch  19 Batch    8/53   train_loss = 3.474\n",
      "Epoch  19 Batch   13/53   train_loss = 3.603\n",
      "Epoch  19 Batch   18/53   train_loss = 3.460\n",
      "Epoch  19 Batch   23/53   train_loss = 3.564\n",
      "Epoch  19 Batch   28/53   train_loss = 3.425\n",
      "Epoch  19 Batch   33/53   train_loss = 3.393\n",
      "Epoch  19 Batch   38/53   train_loss = 3.432\n",
      "Epoch  19 Batch   43/53   train_loss = 3.355\n",
      "Epoch  19 Batch   48/53   train_loss = 3.329\n",
      "Epoch  20 Batch    0/53   train_loss = 3.354\n",
      "Epoch  20 Batch    5/53   train_loss = 3.324\n",
      "Epoch  20 Batch   10/53   train_loss = 3.394\n",
      "Epoch  20 Batch   15/53   train_loss = 3.399\n",
      "Epoch  20 Batch   20/53   train_loss = 3.388\n",
      "Epoch  20 Batch   25/53   train_loss = 3.350\n",
      "Epoch  20 Batch   30/53   train_loss = 3.323\n",
      "Epoch  20 Batch   35/53   train_loss = 3.339\n",
      "Epoch  20 Batch   40/53   train_loss = 3.267\n",
      "Epoch  20 Batch   45/53   train_loss = 3.183\n",
      "Epoch  20 Batch   50/53   train_loss = 3.220\n",
      "Epoch  21 Batch    2/53   train_loss = 3.264\n",
      "Epoch  21 Batch    7/53   train_loss = 3.254\n",
      "Epoch  21 Batch   12/53   train_loss = 3.316\n",
      "Epoch  21 Batch   17/53   train_loss = 3.130\n",
      "Epoch  21 Batch   22/53   train_loss = 3.161\n",
      "Epoch  21 Batch   27/53   train_loss = 3.072\n",
      "Epoch  21 Batch   32/53   train_loss = 3.090\n",
      "Epoch  21 Batch   37/53   train_loss = 3.154\n",
      "Epoch  21 Batch   42/53   train_loss = 2.961\n",
      "Epoch  21 Batch   47/53   train_loss = 3.044\n",
      "Epoch  21 Batch   52/53   train_loss = 3.073\n",
      "Epoch  22 Batch    4/53   train_loss = 3.006\n",
      "Epoch  22 Batch    9/53   train_loss = 3.098\n",
      "Epoch  22 Batch   14/53   train_loss = 3.080\n",
      "Epoch  22 Batch   19/53   train_loss = 2.961\n",
      "Epoch  22 Batch   24/53   train_loss = 2.926\n",
      "Epoch  22 Batch   29/53   train_loss = 3.109\n",
      "Epoch  22 Batch   34/53   train_loss = 3.102\n",
      "Epoch  22 Batch   39/53   train_loss = 3.021\n",
      "Epoch  22 Batch   44/53   train_loss = 3.013\n",
      "Epoch  22 Batch   49/53   train_loss = 2.952\n",
      "Epoch  23 Batch    1/53   train_loss = 2.870\n",
      "Epoch  23 Batch    6/53   train_loss = 2.905\n",
      "Epoch  23 Batch   11/53   train_loss = 2.971\n",
      "Epoch  23 Batch   16/53   train_loss = 2.896\n",
      "Epoch  23 Batch   21/53   train_loss = 2.924\n",
      "Epoch  23 Batch   26/53   train_loss = 3.007\n",
      "Epoch  23 Batch   31/53   train_loss = 2.848\n",
      "Epoch  23 Batch   36/53   train_loss = 2.975\n",
      "Epoch  23 Batch   41/53   train_loss = 2.914\n",
      "Epoch  23 Batch   46/53   train_loss = 2.981\n",
      "Epoch  23 Batch   51/53   train_loss = 2.901\n",
      "Epoch  24 Batch    3/53   train_loss = 3.047\n",
      "Epoch  24 Batch    8/53   train_loss = 2.805\n",
      "Epoch  24 Batch   13/53   train_loss = 2.859\n",
      "Epoch  24 Batch   18/53   train_loss = 2.856\n",
      "Epoch  24 Batch   23/53   train_loss = 2.885\n",
      "Epoch  24 Batch   28/53   train_loss = 2.848\n",
      "Epoch  24 Batch   33/53   train_loss = 2.806\n",
      "Epoch  24 Batch   38/53   train_loss = 2.883\n",
      "Epoch  24 Batch   43/53   train_loss = 2.674\n",
      "Epoch  24 Batch   48/53   train_loss = 2.821\n",
      "Epoch  25 Batch    0/53   train_loss = 2.799\n",
      "Epoch  25 Batch    5/53   train_loss = 2.761\n",
      "Epoch  25 Batch   10/53   train_loss = 2.748\n",
      "Epoch  25 Batch   15/53   train_loss = 2.803\n",
      "Epoch  25 Batch   20/53   train_loss = 2.722\n",
      "Epoch  25 Batch   25/53   train_loss = 2.818\n",
      "Epoch  25 Batch   30/53   train_loss = 2.710\n",
      "Epoch  25 Batch   35/53   train_loss = 2.767\n",
      "Epoch  25 Batch   40/53   train_loss = 2.626\n",
      "Epoch  25 Batch   45/53   train_loss = 2.643\n",
      "Epoch  25 Batch   50/53   train_loss = 2.714\n",
      "Epoch  26 Batch    2/53   train_loss = 2.794\n",
      "Epoch  26 Batch    7/53   train_loss = 2.722\n",
      "Epoch  26 Batch   12/53   train_loss = 2.877\n",
      "Epoch  26 Batch   17/53   train_loss = 2.620\n",
      "Epoch  26 Batch   22/53   train_loss = 2.730\n",
      "Epoch  26 Batch   27/53   train_loss = 2.502\n",
      "Epoch  26 Batch   32/53   train_loss = 2.602\n",
      "Epoch  26 Batch   37/53   train_loss = 2.584\n",
      "Epoch  26 Batch   42/53   train_loss = 2.454\n",
      "Epoch  26 Batch   47/53   train_loss = 2.467\n",
      "Epoch  26 Batch   52/53   train_loss = 2.578\n",
      "Epoch  27 Batch    4/53   train_loss = 2.435\n",
      "Epoch  27 Batch    9/53   train_loss = 2.541\n",
      "Epoch  27 Batch   14/53   train_loss = 2.457\n",
      "Epoch  27 Batch   19/53   train_loss = 2.440\n",
      "Epoch  27 Batch   24/53   train_loss = 2.308\n",
      "Epoch  27 Batch   29/53   train_loss = 2.612\n",
      "Epoch  27 Batch   34/53   train_loss = 2.433\n",
      "Epoch  27 Batch   39/53   train_loss = 2.448\n",
      "Epoch  27 Batch   44/53   train_loss = 2.411\n",
      "Epoch  27 Batch   49/53   train_loss = 2.360\n",
      "Epoch  28 Batch    1/53   train_loss = 2.315\n",
      "Epoch  28 Batch    6/53   train_loss = 2.275\n",
      "Epoch  28 Batch   11/53   train_loss = 2.340\n",
      "Epoch  28 Batch   16/53   train_loss = 2.290\n",
      "Epoch  28 Batch   21/53   train_loss = 2.329\n",
      "Epoch  28 Batch   26/53   train_loss = 2.354\n",
      "Epoch  28 Batch   31/53   train_loss = 2.235\n",
      "Epoch  28 Batch   36/53   train_loss = 2.374\n",
      "Epoch  28 Batch   41/53   train_loss = 2.249\n",
      "Epoch  28 Batch   46/53   train_loss = 2.309\n",
      "Epoch  28 Batch   51/53   train_loss = 2.234\n",
      "Epoch  29 Batch    3/53   train_loss = 2.298\n",
      "Epoch  29 Batch    8/53   train_loss = 2.225\n",
      "Epoch  29 Batch   13/53   train_loss = 2.154\n",
      "Epoch  29 Batch   18/53   train_loss = 2.279\n",
      "Epoch  29 Batch   23/53   train_loss = 2.155\n",
      "Epoch  29 Batch   28/53   train_loss = 2.227\n",
      "Epoch  29 Batch   33/53   train_loss = 2.114\n",
      "Epoch  29 Batch   38/53   train_loss = 2.227\n",
      "Epoch  29 Batch   43/53   train_loss = 2.056\n",
      "Epoch  29 Batch   48/53   train_loss = 2.136\n",
      "Epoch  30 Batch    0/53   train_loss = 2.051\n",
      "Epoch  30 Batch    5/53   train_loss = 2.028\n",
      "Epoch  30 Batch   10/53   train_loss = 2.060\n",
      "Epoch  30 Batch   15/53   train_loss = 2.049\n",
      "Epoch  30 Batch   20/53   train_loss = 2.043\n",
      "Epoch  30 Batch   25/53   train_loss = 2.168\n",
      "Epoch  30 Batch   30/53   train_loss = 2.050\n",
      "Epoch  30 Batch   35/53   train_loss = 2.063\n",
      "Epoch  30 Batch   40/53   train_loss = 2.016\n",
      "Epoch  30 Batch   45/53   train_loss = 2.013\n",
      "Epoch  30 Batch   50/53   train_loss = 1.988\n",
      "Epoch  31 Batch    2/53   train_loss = 2.006\n",
      "Epoch  31 Batch    7/53   train_loss = 1.984\n",
      "Epoch  31 Batch   12/53   train_loss = 2.025\n",
      "Epoch  31 Batch   17/53   train_loss = 1.953\n",
      "Epoch  31 Batch   22/53   train_loss = 1.957\n",
      "Epoch  31 Batch   27/53   train_loss = 1.986\n",
      "Epoch  31 Batch   32/53   train_loss = 1.884\n",
      "Epoch  31 Batch   37/53   train_loss = 2.012\n",
      "Epoch  31 Batch   42/53   train_loss = 1.864\n",
      "Epoch  31 Batch   47/53   train_loss = 1.864\n",
      "Epoch  31 Batch   52/53   train_loss = 1.926\n",
      "Epoch  32 Batch    4/53   train_loss = 1.786\n",
      "Epoch  32 Batch    9/53   train_loss = 1.847\n",
      "Epoch  32 Batch   14/53   train_loss = 1.825\n",
      "Epoch  32 Batch   19/53   train_loss = 1.769\n",
      "Epoch  32 Batch   24/53   train_loss = 1.726\n",
      "Epoch  32 Batch   29/53   train_loss = 2.057\n",
      "Epoch  32 Batch   34/53   train_loss = 1.893\n",
      "Epoch  32 Batch   39/53   train_loss = 2.013\n",
      "Epoch  32 Batch   44/53   train_loss = 1.888\n",
      "Epoch  32 Batch   49/53   train_loss = 1.941\n",
      "Epoch  33 Batch    1/53   train_loss = 1.819\n",
      "Epoch  33 Batch    6/53   train_loss = 1.750\n",
      "Epoch  33 Batch   11/53   train_loss = 1.793\n",
      "Epoch  33 Batch   16/53   train_loss = 1.768\n",
      "Epoch  33 Batch   21/53   train_loss = 1.773\n",
      "Epoch  33 Batch   26/53   train_loss = 1.805\n",
      "Epoch  33 Batch   31/53   train_loss = 1.667\n",
      "Epoch  33 Batch   36/53   train_loss = 1.861\n",
      "Epoch  33 Batch   41/53   train_loss = 1.787\n",
      "Epoch  33 Batch   46/53   train_loss = 1.841\n",
      "Epoch  33 Batch   51/53   train_loss = 1.807\n",
      "Epoch  34 Batch    3/53   train_loss = 1.861\n",
      "Epoch  34 Batch    8/53   train_loss = 1.689\n",
      "Epoch  34 Batch   13/53   train_loss = 1.790\n",
      "Epoch  34 Batch   18/53   train_loss = 1.745\n",
      "Epoch  34 Batch   23/53   train_loss = 1.745\n",
      "Epoch  34 Batch   28/53   train_loss = 1.728\n",
      "Epoch  34 Batch   33/53   train_loss = 1.644\n",
      "Epoch  34 Batch   38/53   train_loss = 1.697\n",
      "Epoch  34 Batch   43/53   train_loss = 1.650\n",
      "Epoch  34 Batch   48/53   train_loss = 1.683\n",
      "Epoch  35 Batch    0/53   train_loss = 1.652\n",
      "Epoch  35 Batch    5/53   train_loss = 1.648\n",
      "Epoch  35 Batch   10/53   train_loss = 1.570\n",
      "Epoch  35 Batch   15/53   train_loss = 1.650\n",
      "Epoch  35 Batch   20/53   train_loss = 1.643\n",
      "Epoch  35 Batch   25/53   train_loss = 1.629\n",
      "Epoch  35 Batch   30/53   train_loss = 1.593\n",
      "Epoch  35 Batch   35/53   train_loss = 1.587\n",
      "Epoch  35 Batch   40/53   train_loss = 1.577\n",
      "Epoch  35 Batch   45/53   train_loss = 1.574\n",
      "Epoch  35 Batch   50/53   train_loss = 1.521\n",
      "Epoch  36 Batch    2/53   train_loss = 1.508\n",
      "Epoch  36 Batch    7/53   train_loss = 1.661\n",
      "Epoch  36 Batch   12/53   train_loss = 1.513\n",
      "Epoch  36 Batch   17/53   train_loss = 1.502\n",
      "Epoch  36 Batch   22/53   train_loss = 1.549\n",
      "Epoch  36 Batch   27/53   train_loss = 1.419\n",
      "Epoch  36 Batch   32/53   train_loss = 1.551\n",
      "Epoch  36 Batch   37/53   train_loss = 1.464\n",
      "Epoch  36 Batch   42/53   train_loss = 1.425\n",
      "Epoch  36 Batch   47/53   train_loss = 1.484\n",
      "Epoch  36 Batch   52/53   train_loss = 1.504\n",
      "Epoch  37 Batch    4/53   train_loss = 1.267\n",
      "Epoch  37 Batch    9/53   train_loss = 1.423\n",
      "Epoch  37 Batch   14/53   train_loss = 1.364\n",
      "Epoch  37 Batch   19/53   train_loss = 1.287\n",
      "Epoch  37 Batch   24/53   train_loss = 1.299\n",
      "Epoch  37 Batch   29/53   train_loss = 1.493\n",
      "Epoch  37 Batch   34/53   train_loss = 1.415\n",
      "Epoch  37 Batch   39/53   train_loss = 1.470\n",
      "Epoch  37 Batch   44/53   train_loss = 1.452\n",
      "Epoch  37 Batch   49/53   train_loss = 1.411\n",
      "Epoch  38 Batch    1/53   train_loss = 1.317\n",
      "Epoch  38 Batch    6/53   train_loss = 1.274\n",
      "Epoch  38 Batch   11/53   train_loss = 1.264\n",
      "Epoch  38 Batch   16/53   train_loss = 1.322\n",
      "Epoch  38 Batch   21/53   train_loss = 1.274\n",
      "Epoch  38 Batch   26/53   train_loss = 1.328\n",
      "Epoch  38 Batch   31/53   train_loss = 1.203\n",
      "Epoch  38 Batch   36/53   train_loss = 1.356\n",
      "Epoch  38 Batch   41/53   train_loss = 1.258\n",
      "Epoch  38 Batch   46/53   train_loss = 1.288\n",
      "Epoch  38 Batch   51/53   train_loss = 1.241\n",
      "Epoch  39 Batch    3/53   train_loss = 1.218\n",
      "Epoch  39 Batch    8/53   train_loss = 1.136\n",
      "Epoch  39 Batch   13/53   train_loss = 1.093\n",
      "Epoch  39 Batch   18/53   train_loss = 1.249\n",
      "Epoch  39 Batch   23/53   train_loss = 1.176\n",
      "Epoch  39 Batch   28/53   train_loss = 1.200\n",
      "Epoch  39 Batch   33/53   train_loss = 1.132\n",
      "Epoch  39 Batch   38/53   train_loss = 1.204\n",
      "Epoch  39 Batch   43/53   train_loss = 1.126\n",
      "Epoch  39 Batch   48/53   train_loss = 1.146\n",
      "Epoch  40 Batch    0/53   train_loss = 1.169\n",
      "Epoch  40 Batch    5/53   train_loss = 1.074\n",
      "Epoch  40 Batch   10/53   train_loss = 1.017\n",
      "Epoch  40 Batch   15/53   train_loss = 1.017\n",
      "Epoch  40 Batch   20/53   train_loss = 1.048\n",
      "Epoch  40 Batch   25/53   train_loss = 1.075\n",
      "Epoch  40 Batch   30/53   train_loss = 1.049\n",
      "Epoch  40 Batch   35/53   train_loss = 0.999\n",
      "Epoch  40 Batch   40/53   train_loss = 1.072\n",
      "Epoch  40 Batch   45/53   train_loss = 1.102\n",
      "Epoch  40 Batch   50/53   train_loss = 1.054\n",
      "Epoch  41 Batch    2/53   train_loss = 1.038\n",
      "Epoch  41 Batch    7/53   train_loss = 1.102\n",
      "Epoch  41 Batch   12/53   train_loss = 0.958\n",
      "Epoch  41 Batch   17/53   train_loss = 0.985\n",
      "Epoch  41 Batch   22/53   train_loss = 0.990\n",
      "Epoch  41 Batch   27/53   train_loss = 0.929\n",
      "Epoch  41 Batch   32/53   train_loss = 0.967\n",
      "Epoch  41 Batch   37/53   train_loss = 0.886\n",
      "Epoch  41 Batch   42/53   train_loss = 1.018\n",
      "Epoch  41 Batch   47/53   train_loss = 0.990\n",
      "Epoch  41 Batch   52/53   train_loss = 0.977\n",
      "Epoch  42 Batch    4/53   train_loss = 0.923\n",
      "Epoch  42 Batch    9/53   train_loss = 0.930\n",
      "Epoch  42 Batch   14/53   train_loss = 0.926\n",
      "Epoch  42 Batch   19/53   train_loss = 0.874\n",
      "Epoch  42 Batch   24/53   train_loss = 0.828\n",
      "Epoch  42 Batch   29/53   train_loss = 1.002\n",
      "Epoch  42 Batch   34/53   train_loss = 0.901\n",
      "Epoch  42 Batch   39/53   train_loss = 0.861\n",
      "Epoch  42 Batch   44/53   train_loss = 0.960\n",
      "Epoch  42 Batch   49/53   train_loss = 0.917\n",
      "Epoch  43 Batch    1/53   train_loss = 0.912\n",
      "Epoch  43 Batch    6/53   train_loss = 0.826\n",
      "Epoch  43 Batch   11/53   train_loss = 0.931\n",
      "Epoch  43 Batch   16/53   train_loss = 0.919\n",
      "Epoch  43 Batch   21/53   train_loss = 0.876\n",
      "Epoch  43 Batch   26/53   train_loss = 0.953\n",
      "Epoch  43 Batch   31/53   train_loss = 0.794\n",
      "Epoch  43 Batch   36/53   train_loss = 0.889\n",
      "Epoch  43 Batch   41/53   train_loss = 0.763\n",
      "Epoch  43 Batch   46/53   train_loss = 0.842\n",
      "Epoch  43 Batch   51/53   train_loss = 0.840\n",
      "Epoch  44 Batch    3/53   train_loss = 0.824\n",
      "Epoch  44 Batch    8/53   train_loss = 0.731\n",
      "Epoch  44 Batch   13/53   train_loss = 0.794\n",
      "Epoch  44 Batch   18/53   train_loss = 0.819\n",
      "Epoch  44 Batch   23/53   train_loss = 0.856\n",
      "Epoch  44 Batch   28/53   train_loss = 0.869\n",
      "Epoch  44 Batch   33/53   train_loss = 0.790\n",
      "Epoch  44 Batch   38/53   train_loss = 0.820\n",
      "Epoch  44 Batch   43/53   train_loss = 0.790\n",
      "Epoch  44 Batch   48/53   train_loss = 0.767\n",
      "Epoch  45 Batch    0/53   train_loss = 0.827\n",
      "Epoch  45 Batch    5/53   train_loss = 0.728\n",
      "Epoch  45 Batch   10/53   train_loss = 0.738\n",
      "Epoch  45 Batch   15/53   train_loss = 0.714\n",
      "Epoch  45 Batch   20/53   train_loss = 0.714\n",
      "Epoch  45 Batch   25/53   train_loss = 0.753\n",
      "Epoch  45 Batch   30/53   train_loss = 0.666\n",
      "Epoch  45 Batch   35/53   train_loss = 0.696\n",
      "Epoch  45 Batch   40/53   train_loss = 0.760\n",
      "Epoch  45 Batch   45/53   train_loss = 0.739\n",
      "Epoch  45 Batch   50/53   train_loss = 0.709\n",
      "Epoch  46 Batch    2/53   train_loss = 0.727\n",
      "Epoch  46 Batch    7/53   train_loss = 0.794\n",
      "Epoch  46 Batch   12/53   train_loss = 0.642\n",
      "Epoch  46 Batch   17/53   train_loss = 0.708\n",
      "Epoch  46 Batch   22/53   train_loss = 0.721\n",
      "Epoch  46 Batch   27/53   train_loss = 0.615\n",
      "Epoch  46 Batch   32/53   train_loss = 0.634\n",
      "Epoch  46 Batch   37/53   train_loss = 0.626\n",
      "Epoch  46 Batch   42/53   train_loss = 0.662\n",
      "Epoch  46 Batch   47/53   train_loss = 0.660\n",
      "Epoch  46 Batch   52/53   train_loss = 0.618\n",
      "Epoch  47 Batch    4/53   train_loss = 0.575\n",
      "Epoch  47 Batch    9/53   train_loss = 0.582\n",
      "Epoch  47 Batch   14/53   train_loss = 0.612\n",
      "Epoch  47 Batch   19/53   train_loss = 0.573\n",
      "Epoch  47 Batch   24/53   train_loss = 0.605\n",
      "Epoch  47 Batch   29/53   train_loss = 0.696\n",
      "Epoch  47 Batch   34/53   train_loss = 0.636\n",
      "Epoch  47 Batch   39/53   train_loss = 0.600\n",
      "Epoch  47 Batch   44/53   train_loss = 0.603\n",
      "Epoch  47 Batch   49/53   train_loss = 0.604\n",
      "Epoch  48 Batch    1/53   train_loss = 0.557\n",
      "Epoch  48 Batch    6/53   train_loss = 0.518\n",
      "Epoch  48 Batch   11/53   train_loss = 0.589\n",
      "Epoch  48 Batch   16/53   train_loss = 0.558\n",
      "Epoch  48 Batch   21/53   train_loss = 0.549\n",
      "Epoch  48 Batch   26/53   train_loss = 0.602\n",
      "Epoch  48 Batch   31/53   train_loss = 0.524\n",
      "Epoch  48 Batch   36/53   train_loss = 0.523\n",
      "Epoch  48 Batch   41/53   train_loss = 0.542\n",
      "Epoch  48 Batch   46/53   train_loss = 0.517\n",
      "Epoch  48 Batch   51/53   train_loss = 0.543\n",
      "Epoch  49 Batch    3/53   train_loss = 0.507\n",
      "Epoch  49 Batch    8/53   train_loss = 0.436\n",
      "Epoch  49 Batch   13/53   train_loss = 0.431\n",
      "Epoch  49 Batch   18/53   train_loss = 0.511\n",
      "Epoch  49 Batch   23/53   train_loss = 0.522\n",
      "Epoch  49 Batch   28/53   train_loss = 0.510\n",
      "Epoch  49 Batch   33/53   train_loss = 0.452\n",
      "Epoch  49 Batch   38/53   train_loss = 0.475\n",
      "Epoch  49 Batch   43/53   train_loss = 0.486\n",
      "Epoch  49 Batch   48/53   train_loss = 0.492\n",
      "Epoch  50 Batch    0/53   train_loss = 0.540\n",
      "Epoch  50 Batch    5/53   train_loss = 0.504\n",
      "Epoch  50 Batch   10/53   train_loss = 0.420\n",
      "Epoch  50 Batch   15/53   train_loss = 0.412\n",
      "Epoch  50 Batch   20/53   train_loss = 0.448\n",
      "Epoch  50 Batch   25/53   train_loss = 0.455\n",
      "Epoch  50 Batch   30/53   train_loss = 0.403\n",
      "Epoch  50 Batch   35/53   train_loss = 0.385\n",
      "Epoch  50 Batch   40/53   train_loss = 0.442\n",
      "Epoch  50 Batch   45/53   train_loss = 0.427\n",
      "Epoch  50 Batch   50/53   train_loss = 0.405\n",
      "Epoch  51 Batch    2/53   train_loss = 0.435\n",
      "Epoch  51 Batch    7/53   train_loss = 0.515\n",
      "Epoch  51 Batch   12/53   train_loss = 0.386\n",
      "Epoch  51 Batch   17/53   train_loss = 0.419\n",
      "Epoch  51 Batch   22/53   train_loss = 0.437\n",
      "Epoch  51 Batch   27/53   train_loss = 0.394\n",
      "Epoch  51 Batch   32/53   train_loss = 0.384\n",
      "Epoch  51 Batch   37/53   train_loss = 0.378\n",
      "Epoch  51 Batch   42/53   train_loss = 0.404\n",
      "Epoch  51 Batch   47/53   train_loss = 0.392\n",
      "Epoch  51 Batch   52/53   train_loss = 0.371\n",
      "Epoch  52 Batch    4/53   train_loss = 0.334\n",
      "Epoch  52 Batch    9/53   train_loss = 0.359\n",
      "Epoch  52 Batch   14/53   train_loss = 0.364\n",
      "Epoch  52 Batch   19/53   train_loss = 0.389\n",
      "Epoch  52 Batch   24/53   train_loss = 0.342\n",
      "Epoch  52 Batch   29/53   train_loss = 0.456\n",
      "Epoch  52 Batch   34/53   train_loss = 0.384\n",
      "Epoch  52 Batch   39/53   train_loss = 0.371\n",
      "Epoch  52 Batch   44/53   train_loss = 0.349\n",
      "Epoch  52 Batch   49/53   train_loss = 0.347\n",
      "Epoch  53 Batch    1/53   train_loss = 0.334\n",
      "Epoch  53 Batch    6/53   train_loss = 0.339\n",
      "Epoch  53 Batch   11/53   train_loss = 0.347\n",
      "Epoch  53 Batch   16/53   train_loss = 0.334\n",
      "Epoch  53 Batch   21/53   train_loss = 0.326\n",
      "Epoch  53 Batch   26/53   train_loss = 0.402\n",
      "Epoch  53 Batch   31/53   train_loss = 0.317\n",
      "Epoch  53 Batch   36/53   train_loss = 0.347\n",
      "Epoch  53 Batch   41/53   train_loss = 0.318\n",
      "Epoch  53 Batch   46/53   train_loss = 0.334\n",
      "Epoch  53 Batch   51/53   train_loss = 0.339\n",
      "Epoch  54 Batch    3/53   train_loss = 0.297\n",
      "Epoch  54 Batch    8/53   train_loss = 0.298\n",
      "Epoch  54 Batch   13/53   train_loss = 0.278\n",
      "Epoch  54 Batch   18/53   train_loss = 0.318\n",
      "Epoch  54 Batch   23/53   train_loss = 0.345\n",
      "Epoch  54 Batch   28/53   train_loss = 0.339\n",
      "Epoch  54 Batch   33/53   train_loss = 0.312\n",
      "Epoch  54 Batch   38/53   train_loss = 0.323\n",
      "Epoch  54 Batch   43/53   train_loss = 0.317\n",
      "Epoch  54 Batch   48/53   train_loss = 0.349\n",
      "Epoch  55 Batch    0/53   train_loss = 0.338\n",
      "Epoch  55 Batch    5/53   train_loss = 0.326\n",
      "Epoch  55 Batch   10/53   train_loss = 0.286\n",
      "Epoch  55 Batch   15/53   train_loss = 0.291\n",
      "Epoch  55 Batch   20/53   train_loss = 0.284\n",
      "Epoch  55 Batch   25/53   train_loss = 0.315\n",
      "Epoch  55 Batch   30/53   train_loss = 0.281\n",
      "Epoch  55 Batch   35/53   train_loss = 0.264\n",
      "Epoch  55 Batch   40/53   train_loss = 0.326\n",
      "Epoch  55 Batch   45/53   train_loss = 0.296\n",
      "Epoch  55 Batch   50/53   train_loss = 0.275\n",
      "Epoch  56 Batch    2/53   train_loss = 0.326\n",
      "Epoch  56 Batch    7/53   train_loss = 0.337\n",
      "Epoch  56 Batch   12/53   train_loss = 0.242\n",
      "Epoch  56 Batch   17/53   train_loss = 0.300\n",
      "Epoch  56 Batch   22/53   train_loss = 0.288\n",
      "Epoch  56 Batch   27/53   train_loss = 0.250\n",
      "Epoch  56 Batch   32/53   train_loss = 0.279\n",
      "Epoch  56 Batch   37/53   train_loss = 0.268\n",
      "Epoch  56 Batch   42/53   train_loss = 0.294\n",
      "Epoch  56 Batch   47/53   train_loss = 0.277\n",
      "Epoch  56 Batch   52/53   train_loss = 0.245\n",
      "Epoch  57 Batch    4/53   train_loss = 0.252\n",
      "Epoch  57 Batch    9/53   train_loss = 0.251\n",
      "Epoch  57 Batch   14/53   train_loss = 0.254\n",
      "Epoch  57 Batch   19/53   train_loss = 0.275\n",
      "Epoch  57 Batch   24/53   train_loss = 0.254\n",
      "Epoch  57 Batch   29/53   train_loss = 0.315\n",
      "Epoch  57 Batch   34/53   train_loss = 0.269\n",
      "Epoch  57 Batch   39/53   train_loss = 0.256\n",
      "Epoch  57 Batch   44/53   train_loss = 0.251\n",
      "Epoch  57 Batch   49/53   train_loss = 0.255\n",
      "Epoch  58 Batch    1/53   train_loss = 0.247\n",
      "Epoch  58 Batch    6/53   train_loss = 0.250\n",
      "Epoch  58 Batch   11/53   train_loss = 0.257\n",
      "Epoch  58 Batch   16/53   train_loss = 0.243\n",
      "Epoch  58 Batch   21/53   train_loss = 0.237\n",
      "Epoch  58 Batch   26/53   train_loss = 0.281\n",
      "Epoch  58 Batch   31/53   train_loss = 0.235\n",
      "Epoch  58 Batch   36/53   train_loss = 0.218\n",
      "Epoch  58 Batch   41/53   train_loss = 0.222\n",
      "Epoch  58 Batch   46/53   train_loss = 0.245\n",
      "Epoch  58 Batch   51/53   train_loss = 0.231\n",
      "Epoch  59 Batch    3/53   train_loss = 0.208\n",
      "Epoch  59 Batch    8/53   train_loss = 0.215\n",
      "Epoch  59 Batch   13/53   train_loss = 0.196\n",
      "Epoch  59 Batch   18/53   train_loss = 0.230\n",
      "Epoch  59 Batch   23/53   train_loss = 0.248\n",
      "Epoch  59 Batch   28/53   train_loss = 0.247\n",
      "Epoch  59 Batch   33/53   train_loss = 0.219\n",
      "Epoch  59 Batch   38/53   train_loss = 0.229\n",
      "Epoch  59 Batch   43/53   train_loss = 0.228\n",
      "Epoch  59 Batch   48/53   train_loss = 0.228\n",
      "Model Trained and Saved\n"
     ]
    }
   ],
   "source": [
    "\"\"\"\n",
    "DON'T MODIFY ANYTHING IN THIS CELL\n",
    "\"\"\"\n",
    "batches = get_batches(int_text, batch_size, seq_length)\n",
    "\n",
    "with tf.Session(graph=train_graph) as sess:\n",
    "    sess.run(tf.global_variables_initializer())\n",
    "\n",
    "    for epoch_i in range(num_epochs):\n",
    "        state = sess.run(initial_state, {input_text: batches[0][0]})\n",
    "\n",
    "        for batch_i, (x, y) in enumerate(batches):\n",
    "            feed = {\n",
    "                input_text: x,\n",
    "                targets: y,\n",
    "                initial_state: state,\n",
    "                lr: learning_rate}\n",
    "            train_loss, state, _ = sess.run([cost, final_state, train_op], feed)\n",
    "\n",
    "            # Show every <show_every_n_batches> batches\n",
    "            if (epoch_i * len(batches) + batch_i) % show_every_n_batches == 0:\n",
    "                print('Epoch {:>3} Batch {:>4}/{}   train_loss = {:.3f}'.format(\n",
    "                    epoch_i,\n",
    "                    batch_i,\n",
    "                    len(batches),\n",
    "                    train_loss))\n",
    "\n",
    "    # Save Model\n",
    "    saver = tf.train.Saver()\n",
    "    saver.save(sess, save_dir)\n",
    "    print('Model Trained and Saved')"
   ]
  },
  {
   "cell_type": "markdown",
   "metadata": {
    "deletable": true,
    "editable": true
   },
   "source": [
    "## Save Parameters\n",
    "Save `seq_length` and `save_dir` for generating a new TV script."
   ]
  },
  {
   "cell_type": "code",
   "execution_count": 74,
   "metadata": {
    "collapsed": false,
    "deletable": true,
    "editable": true
   },
   "outputs": [],
   "source": [
    "\"\"\"\n",
    "DON'T MODIFY ANYTHING IN THIS CELL\n",
    "\"\"\"\n",
    "# Save parameters for checkpoint\n",
    "helper.save_params((seq_length, save_dir))"
   ]
  },
  {
   "cell_type": "markdown",
   "metadata": {
    "deletable": true,
    "editable": true
   },
   "source": [
    "# Checkpoint"
   ]
  },
  {
   "cell_type": "code",
   "execution_count": 75,
   "metadata": {
    "collapsed": false,
    "deletable": true,
    "editable": true
   },
   "outputs": [],
   "source": [
    "\"\"\"\n",
    "DON'T MODIFY ANYTHING IN THIS CELL\n",
    "\"\"\"\n",
    "import tensorflow as tf\n",
    "import numpy as np\n",
    "import helper\n",
    "import problem_unittests as tests\n",
    "\n",
    "_, vocab_to_int, int_to_vocab, token_dict = helper.load_preprocess()\n",
    "seq_length, load_dir = helper.load_params()"
   ]
  },
  {
   "cell_type": "markdown",
   "metadata": {
    "deletable": true,
    "editable": true
   },
   "source": [
    "## Implement Generate Functions\n",
    "### Get Tensors\n",
    "Get tensors from `loaded_graph` using the function [`get_tensor_by_name()`](https://www.tensorflow.org/api_docs/python/tf/Graph#get_tensor_by_name).  Get the tensors using the following names:\n",
    "- \"input:0\"\n",
    "- \"initial_state:0\"\n",
    "- \"final_state:0\"\n",
    "- \"probs:0\"\n",
    "\n",
    "Return the tensors in the following tuple `(InputTensor, InitialStateTensor, FinalStateTensor, ProbsTensor)` "
   ]
  },
  {
   "cell_type": "code",
   "execution_count": 76,
   "metadata": {
    "collapsed": false,
    "deletable": true,
    "editable": true
   },
   "outputs": [
    {
     "name": "stdout",
     "output_type": "stream",
     "text": [
      "Tests Passed\n"
     ]
    }
   ],
   "source": [
    "def get_tensors(loaded_graph):\n",
    "    \"\"\"\n",
    "    Get input, initial state, final state, and probabilities tensor from <loaded_graph>\n",
    "    :param loaded_graph: TensorFlow graph loaded from file\n",
    "    :return: Tuple (InputTensor, InitialStateTensor, FinalStateTensor, ProbsTensor)\n",
    "    \"\"\"\n",
    "    # TODO: Implement Function\n",
    "    InputTensor = loaded_graph.get_tensor_by_name(\"input:0\")\n",
    "    InitialStateTensor = loaded_graph.get_tensor_by_name(\"initial_state:0\")\n",
    "    FinalStateTensor = loaded_graph.get_tensor_by_name(\"final_state:0\")\n",
    "    ProbsTensor = loaded_graph.get_tensor_by_name(\"probs:0\")\n",
    "    return InputTensor, InitialStateTensor, FinalStateTensor, ProbsTensor\n",
    "\n",
    "\n",
    "\"\"\"\n",
    "DON'T MODIFY ANYTHING IN THIS CELL THAT IS BELOW THIS LINE\n",
    "\"\"\"\n",
    "tests.test_get_tensors(get_tensors)"
   ]
  },
  {
   "cell_type": "markdown",
   "metadata": {
    "deletable": true,
    "editable": true
   },
   "source": [
    "### Choose Word\n",
    "Implement the `pick_word()` function to select the next word using `probabilities`."
   ]
  },
  {
   "cell_type": "code",
   "execution_count": 79,
   "metadata": {
    "collapsed": false,
    "deletable": true,
    "editable": true
   },
   "outputs": [
    {
     "name": "stdout",
     "output_type": "stream",
     "text": [
      "Tests Passed\n"
     ]
    }
   ],
   "source": [
    "def pick_word(probabilities, int_to_vocab):\n",
    "    \"\"\"\n",
    "    Pick the next word in the generated text\n",
    "    :param probabilities: Probabilites of the next word\n",
    "    :param int_to_vocab: Dictionary of word ids as the keys and words as the values\n",
    "    :return: String of the predicted word\n",
    "    \"\"\"\n",
    "    # TODO: Implement Function\n",
    "    #Find the highest probabilities of the word\n",
    "    next_word_id = np.argmax(probabilities)\n",
    "    next_word = int_to_vocab[next_word_id]\n",
    "    return next_word\n",
    "\n",
    "\n",
    "\"\"\"\n",
    "DON'T MODIFY ANYTHING IN THIS CELL THAT IS BELOW THIS LINE\n",
    "\"\"\"\n",
    "tests.test_pick_word(pick_word)"
   ]
  },
  {
   "cell_type": "markdown",
   "metadata": {
    "deletable": true,
    "editable": true
   },
   "source": [
    "## Generate TV Script\n",
    "This will generate the TV script for you.  Set `gen_length` to the length of TV script you want to generate."
   ]
  },
  {
   "cell_type": "code",
   "execution_count": 80,
   "metadata": {
    "collapsed": false,
    "deletable": true,
    "editable": true
   },
   "outputs": [
    {
     "name": "stdout",
     "output_type": "stream",
     "text": [
      "moe_szyslak:(while poking, friendly) so, hey, did you see the game last night?\n",
      "\n",
      "\n",
      "homer_simpson: well, i gotta tell ya, i'm looking for a mr. x till you didn't even help me.\n",
      "marge_simpson:(looking register) oh, yeah.\n",
      "homer_simpson:(pants) okay, can i come home?\n",
      "moe_szyslak: oh, what's this?\n",
      "moe_szyslak: listen, i think it's looking for a good beer?\n",
      "lenny_leonard:(excited) uh, someone so carl.\n",
      "moe_szyslak:(sigh) ah, look at it.\n",
      "homer_simpson: i suppose i would go home there, but i know no into the winnings with the limits?\n",
      "homer_simpson:(impressed) all those sweet... so i can talk?\n",
      "carl_carlson:(laughs) i'm not all right, barney.\n",
      "homer_simpson: look at me and long our grand. i wish i can't put it in or ten.\n",
      "moe_szyslak: oh yeah? hey, who like this.\n",
      "moe_szyslak: yeah, yeah, don't get any beer who did you\n"
     ]
    }
   ],
   "source": [
    "gen_length = 200\n",
    "# homer_simpson, moe_szyslak, or Barney_Gumble\n",
    "prime_word = 'moe_szyslak'\n",
    "\n",
    "\"\"\"\n",
    "DON'T MODIFY ANYTHING IN THIS CELL THAT IS BELOW THIS LINE\n",
    "\"\"\"\n",
    "loaded_graph = tf.Graph()\n",
    "with tf.Session(graph=loaded_graph) as sess:\n",
    "    # Load saved model\n",
    "    loader = tf.train.import_meta_graph(load_dir + '.meta')\n",
    "    loader.restore(sess, load_dir)\n",
    "\n",
    "    # Get Tensors from loaded model\n",
    "    input_text, initial_state, final_state, probs = get_tensors(loaded_graph)\n",
    "\n",
    "    # Sentences generation setup\n",
    "    gen_sentences = [prime_word + ':']\n",
    "    prev_state = sess.run(initial_state, {input_text: np.array([[1]])})\n",
    "\n",
    "    # Generate sentences\n",
    "    for n in range(gen_length):\n",
    "        # Dynamic Input\n",
    "        dyn_input = [[vocab_to_int[word] for word in gen_sentences[-seq_length:]]]\n",
    "        dyn_seq_length = len(dyn_input[0])\n",
    "\n",
    "        # Get Prediction\n",
    "        probabilities, prev_state = sess.run(\n",
    "            [probs, final_state],\n",
    "            {input_text: dyn_input, initial_state: prev_state})\n",
    "        \n",
    "        pred_word = pick_word(probabilities[dyn_seq_length-1], int_to_vocab)\n",
    "\n",
    "        gen_sentences.append(pred_word)\n",
    "    \n",
    "    # Remove tokens\n",
    "    tv_script = ' '.join(gen_sentences)\n",
    "    for key, token in token_dict.items():\n",
    "        ending = ' ' if key in ['\\n', '(', '\"'] else ''\n",
    "        tv_script = tv_script.replace(' ' + token.lower(), key)\n",
    "    tv_script = tv_script.replace('\\n ', '\\n')\n",
    "    tv_script = tv_script.replace('( ', '(')\n",
    "        \n",
    "    print(tv_script)"
   ]
  },
  {
   "cell_type": "markdown",
   "metadata": {
    "deletable": true,
    "editable": true
   },
   "source": [
    "# The TV Script is Nonsensical\n",
    "It's ok if the TV script doesn't make any sense.  We trained on less than a megabyte of text.  In order to get good results, you'll have to use a smaller vocabulary or get more data.  Luckly there's more data!  As we mentioned in the begging of this project, this is a subset of [another dataset](https://www.kaggle.com/wcukierski/the-simpsons-by-the-data).  We didn't have you train on all the data, because that would take too long.  However, you are free to train your neural network on all the data.  After you complete the project, of course.\n",
    "# Submitting This Project\n",
    "When submitting this project, make sure to run all the cells before saving the notebook. Save the notebook file as \"dlnd_tv_script_generation.ipynb\" and save it as a HTML file under \"File\" -> \"Download as\". Include the \"helper.py\" and \"problem_unittests.py\" files in your submission."
   ]
  }
 ],
 "metadata": {
  "kernelspec": {
   "display_name": "Python 3",
   "language": "python",
   "name": "python3"
  },
  "language_info": {
   "codemirror_mode": {
    "name": "ipython",
    "version": 3
   },
   "file_extension": ".py",
   "mimetype": "text/x-python",
   "name": "python",
   "nbconvert_exporter": "python",
   "pygments_lexer": "ipython3",
   "version": "3.5.2"
  },
  "widgets": {
   "state": {},
   "version": "1.1.2"
  }
 },
 "nbformat": 4,
 "nbformat_minor": 0
}
